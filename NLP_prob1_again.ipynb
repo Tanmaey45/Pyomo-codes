{
  "nbformat": 4,
  "nbformat_minor": 0,
  "metadata": {
    "colab": {
      "provenance": [],
      "authorship_tag": "ABX9TyPygKSr+JZW9RzCOnEti5hv",
      "include_colab_link": true
    },
    "kernelspec": {
      "name": "python3",
      "display_name": "Python 3"
    },
    "language_info": {
      "name": "python"
    }
  },
  "cells": [
    {
      "cell_type": "markdown",
      "metadata": {
        "id": "view-in-github",
        "colab_type": "text"
      },
      "source": [
        "<a href=\"https://colab.research.google.com/github/Tanmaey45/Pyomo-codes/blob/main/NLP_prob1_again.ipynb\" target=\"_parent\"><img src=\"https://colab.research.google.com/assets/colab-badge.svg\" alt=\"Open In Colab\"/></a>"
      ]
    },
    {
      "cell_type": "code",
      "execution_count": 12,
      "metadata": {
        "colab": {
          "base_uri": "https://localhost:8080/"
        },
        "id": "8B8twihEOv7k",
        "outputId": "055a62ef-02be-45ec-c933-22dd7aaec3a8"
      },
      "outputs": [
        {
          "output_type": "stream",
          "name": "stdout",
          "text": [
            "Requirement already satisfied: pyomo in /usr/local/lib/python3.10/dist-packages (6.7.2)\n",
            "Requirement already satisfied: ply in /usr/local/lib/python3.10/dist-packages (from pyomo) (3.11)\n",
            "Collecting idaes-pse\n",
            "  Downloading idaes_pse-2.4.0-py3-none-any.whl (17.9 MB)\n",
            "\u001b[2K     \u001b[90m━━━━━━━━━━━━━━━━━━━━━━━━━━━━━━━━━━━━━━━━\u001b[0m \u001b[32m17.9/17.9 MB\u001b[0m \u001b[31m44.7 MB/s\u001b[0m eta \u001b[36m0:00:00\u001b[0m\n",
            "\u001b[?25hRequirement already satisfied: pyomo>=6.7.1 in /usr/local/lib/python3.10/dist-packages (from idaes-pse) (6.7.2)\n",
            "Collecting pint (from idaes-pse)\n",
            "  Downloading Pint-0.23-py3-none-any.whl (305 kB)\n",
            "\u001b[2K     \u001b[90m━━━━━━━━━━━━━━━━━━━━━━━━━━━━━━━━━━━━━━━━\u001b[0m \u001b[32m305.0/305.0 kB\u001b[0m \u001b[31m16.4 MB/s\u001b[0m eta \u001b[36m0:00:00\u001b[0m\n",
            "\u001b[?25hRequirement already satisfied: networkx in /usr/local/lib/python3.10/dist-packages (from idaes-pse) (3.3)\n",
            "Requirement already satisfied: numpy<2 in /usr/local/lib/python3.10/dist-packages (from idaes-pse) (1.25.2)\n",
            "Requirement already satisfied: pandas!=2.1.0,<3 in /usr/local/lib/python3.10/dist-packages (from idaes-pse) (2.0.3)\n",
            "Requirement already satisfied: scipy in /usr/local/lib/python3.10/dist-packages (from idaes-pse) (1.11.4)\n",
            "Requirement already satisfied: sympy in /usr/local/lib/python3.10/dist-packages (from idaes-pse) (1.12)\n",
            "Requirement already satisfied: matplotlib in /usr/local/lib/python3.10/dist-packages (from idaes-pse) (3.7.1)\n",
            "Requirement already satisfied: click>=8 in /usr/local/lib/python3.10/dist-packages (from idaes-pse) (8.1.7)\n",
            "Requirement already satisfied: python-dateutil>=2.8.2 in /usr/local/lib/python3.10/dist-packages (from pandas!=2.1.0,<3->idaes-pse) (2.8.2)\n",
            "Requirement already satisfied: pytz>=2020.1 in /usr/local/lib/python3.10/dist-packages (from pandas!=2.1.0,<3->idaes-pse) (2023.4)\n",
            "Requirement already satisfied: tzdata>=2022.1 in /usr/local/lib/python3.10/dist-packages (from pandas!=2.1.0,<3->idaes-pse) (2024.1)\n",
            "Requirement already satisfied: ply in /usr/local/lib/python3.10/dist-packages (from pyomo>=6.7.1->idaes-pse) (3.11)\n",
            "Requirement already satisfied: contourpy>=1.0.1 in /usr/local/lib/python3.10/dist-packages (from matplotlib->idaes-pse) (1.2.1)\n",
            "Requirement already satisfied: cycler>=0.10 in /usr/local/lib/python3.10/dist-packages (from matplotlib->idaes-pse) (0.12.1)\n",
            "Requirement already satisfied: fonttools>=4.22.0 in /usr/local/lib/python3.10/dist-packages (from matplotlib->idaes-pse) (4.51.0)\n",
            "Requirement already satisfied: kiwisolver>=1.0.1 in /usr/local/lib/python3.10/dist-packages (from matplotlib->idaes-pse) (1.4.5)\n",
            "Requirement already satisfied: packaging>=20.0 in /usr/local/lib/python3.10/dist-packages (from matplotlib->idaes-pse) (24.0)\n",
            "Requirement already satisfied: pillow>=6.2.0 in /usr/local/lib/python3.10/dist-packages (from matplotlib->idaes-pse) (9.4.0)\n",
            "Requirement already satisfied: pyparsing>=2.3.1 in /usr/local/lib/python3.10/dist-packages (from matplotlib->idaes-pse) (3.1.2)\n",
            "Requirement already satisfied: typing-extensions in /usr/local/lib/python3.10/dist-packages (from pint->idaes-pse) (4.11.0)\n",
            "Requirement already satisfied: mpmath>=0.19 in /usr/local/lib/python3.10/dist-packages (from sympy->idaes-pse) (1.3.0)\n",
            "Requirement already satisfied: six>=1.5 in /usr/local/lib/python3.10/dist-packages (from python-dateutil>=2.8.2->pandas!=2.1.0,<3->idaes-pse) (1.16.0)\n",
            "Installing collected packages: pint, idaes-pse\n",
            "Successfully installed idaes-pse-2.4.0 pint-0.23\n",
            "WARNING: DEPRECATED: The pyomo_constant_types set will be removed in the\n",
            "future: the set contained only NumericConstant and _PythonCallbackFunctionID,\n",
            "and provided no meaningful value to clients or walkers.  Users should likely\n",
            "handle these types in the same manner as immutable Params.  (deprecated in\n",
            "6.7.2) (called from <frozen importlib._bootstrap>:241)\n",
            "WARNING: DEPRECATED: Declaring class 'ProcessBlockData' derived from\n",
            "'_BlockData'.  The class '_BlockData' has been renamed to 'BlockData'.\n",
            "(deprecated in 6.7.2) (called from /usr/local/lib/python3.10/dist-\n",
            "packages/idaes/core/base/process_base.py:78)\n",
            "WARNING: DEPRECATED: Declaring class '_GeneralVarLikeExpressionData' derived\n",
            "from '_GeneralExpressionData'.  The class '_GeneralExpressionData' has been\n",
            "renamed to 'ExpressionData'.  (deprecated in 6.7.2) (called from\n",
            "/usr/local/lib/python3.10/dist-\n",
            "packages/idaes/core/base/var_like_expression.py:31)\n",
            "Getting files...\n",
            "Done\n",
            "---------------------------------------------------\n",
            "IDAES Extensions Build Versions\n",
            "===================================================\n",
            "Solvers:  vno version file found\n",
            "Library:  vno version file found\n",
            "===================================================\n",
            "Requirement already satisfied: pyomo in /usr/local/lib/python3.10/dist-packages (6.7.2)\n",
            "Requirement already satisfied: ply in /usr/local/lib/python3.10/dist-packages (from pyomo) (3.11)\n"
          ]
        }
      ],
      "source": [
        "!pip install pyomo\n",
        "!pip install cplex -q\n",
        "import pyomo.environ as pyo\n",
        "from pyomo.opt import *\n",
        "\n",
        "import sys\n",
        "import os\n",
        "\n",
        "if 'google.colab' in sys.modules:\n",
        "    !pip install idaes-pse --pre\n",
        "    !idaes get-extensions --to ./bin\n",
        "    os.environ['PATH'] += ':bin'\n",
        "!pip install pyomo\n",
        "!wget -N -q \"https://matematica.unipv.it/gualandi/solvers/ipopt-linux64.zip\"\n",
        "!unzip -o -q ipopt-linux64\n"
      ]
    },
    {
      "cell_type": "code",
      "source": [
        "model = pyo.ConcreteModel()\n",
        "\n",
        "#defining variables\n",
        "model.x1 = pyo.Var( within = pyo.NonNegativeReals)\n",
        "x1 = model.x1\n",
        "\n",
        "model.x2 = pyo.Var( within = pyo.NonNegativeReals)\n",
        "x2 = model.x2\n"
      ],
      "metadata": {
        "id": "t1aXMRB9Qn5j"
      },
      "execution_count": 8,
      "outputs": []
    },
    {
      "cell_type": "code",
      "source": [
        "#def obj_rule(model):\n",
        "  #return sum(x1*x2 - 180)\n",
        "\n",
        "model.obj = pyo.Objective( expr = x1*x2 -180, sense = pyo.maximize)\n",
        "\n",
        "def con1(model):\n",
        "  return 2*(x1+x2) <= 194  #56 used for inner rails\n",
        "\n",
        "def con2(model):\n",
        "  return (x1-10) == (x2-18)\n",
        "\n",
        "model.c1 = pyo.Constraint( rule = con1)\n",
        "model.c2 = pyo.Constraint( rule = con2)"
      ],
      "metadata": {
        "colab": {
          "base_uri": "https://localhost:8080/"
        },
        "id": "8wB4vRHvRBTq",
        "outputId": "cdc8c8ec-7038-4b17-bfd5-04a1bb7149a8"
      },
      "execution_count": 13,
      "outputs": [
        {
          "output_type": "stream",
          "name": "stderr",
          "text": [
            "WARNING:pyomo.core:Implicitly replacing the Component attribute obj (type=<class 'pyomo.core.base.objective.ScalarObjective'>) on block unknown with a new Component (type=<class 'pyomo.core.base.objective.ScalarObjective'>).\n",
            "This is usually indicative of a modelling error.\n",
            "To avoid this warning, use block.del_component() and block.add_component().\n"
          ]
        }
      ]
    },
    {
      "cell_type": "code",
      "source": [
        "z= SolverFactory('ipopt', executable = '/content/ipopt')\n",
        "results = z.solve(model)\n",
        "\n",
        "print(results)\n",
        "print(model.obj())\n",
        "\n",
        "print(\"x1:\", x1(), \"x2:\", x2())"
      ],
      "metadata": {
        "colab": {
          "base_uri": "https://localhost:8080/"
        },
        "id": "xvaGmVRXT5Rd",
        "outputId": "74f24475-807a-460d-ccb3-4b42a25d168f"
      },
      "execution_count": 15,
      "outputs": [
        {
          "output_type": "stream",
          "name": "stdout",
          "text": [
            "\n",
            "Problem: \n",
            "- Lower bound: -inf\n",
            "  Upper bound: inf\n",
            "  Number of objectives: 1\n",
            "  Number of constraints: 2\n",
            "  Number of variables: 2\n",
            "  Sense: unknown\n",
            "Solver: \n",
            "- Status: ok\n",
            "  Message: Ipopt 3.12.13\\x3a Optimal Solution Found\n",
            "  Termination condition: optimal\n",
            "  Id: 0\n",
            "  Error rc: 0\n",
            "  Time: 0.010163068771362305\n",
            "Solution: \n",
            "- number of solutions: 0\n",
            "  number of solutions displayed: 0\n",
            "\n",
            "2156.2500470424943\n",
            "x1: 44.500000484974166 x2: 52.500000484974166\n"
          ]
        }
      ]
    },
    {
      "cell_type": "code",
      "source": [],
      "metadata": {
        "id": "EIeQ1VCzVlSb"
      },
      "execution_count": null,
      "outputs": []
    }
  ]
}