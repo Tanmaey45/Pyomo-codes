{
  "nbformat": 4,
  "nbformat_minor": 0,
  "metadata": {
    "colab": {
      "provenance": [],
      "authorship_tag": "ABX9TyMHbGFjXE5np6LJ+3N07bVK",
      "include_colab_link": true
    },
    "kernelspec": {
      "name": "python3",
      "display_name": "Python 3"
    },
    "language_info": {
      "name": "python"
    }
  },
  "cells": [
    {
      "cell_type": "markdown",
      "metadata": {
        "id": "view-in-github",
        "colab_type": "text"
      },
      "source": [
        "<a href=\"https://colab.research.google.com/github/Tanmaey45/Pyomo-codes/blob/main/prob_3.ipynb\" target=\"_parent\"><img src=\"https://colab.research.google.com/assets/colab-badge.svg\" alt=\"Open In Colab\"/></a>"
      ]
    },
    {
      "cell_type": "code",
      "execution_count": null,
      "metadata": {
        "colab": {
          "base_uri": "https://localhost:8080/"
        },
        "id": "Cxt6_gz0guZe",
        "outputId": "8ac4e08a-9160-4ac6-a7cd-966df9f96b94"
      },
      "outputs": [
        {
          "output_type": "stream",
          "name": "stdout",
          "text": [
            "Collecting pyomo\n",
            "  Downloading Pyomo-6.7.1-cp310-cp310-manylinux_2_17_x86_64.manylinux2014_x86_64.whl (12.7 MB)\n",
            "\u001b[2K     \u001b[90m━━━━━━━━━━━━━━━━━━━━━━━━━━━━━━━━━━━━━━━━\u001b[0m \u001b[32m12.7/12.7 MB\u001b[0m \u001b[31m20.2 MB/s\u001b[0m eta \u001b[36m0:00:00\u001b[0m\n",
            "\u001b[?25hCollecting ply (from pyomo)\n",
            "  Downloading ply-3.11-py2.py3-none-any.whl (49 kB)\n",
            "\u001b[2K     \u001b[90m━━━━━━━━━━━━━━━━━━━━━━━━━━━━━━━━━━━━━━━━\u001b[0m \u001b[32m49.6/49.6 kB\u001b[0m \u001b[31m3.2 MB/s\u001b[0m eta \u001b[36m0:00:00\u001b[0m\n",
            "\u001b[?25hInstalling collected packages: ply, pyomo\n",
            "Successfully installed ply-3.11 pyomo-6.7.1\n",
            "Selecting previously unselected package libsuitesparseconfig5:amd64.\n",
            "(Reading database ... 121752 files and directories currently installed.)\n",
            "Preparing to unpack .../libsuitesparseconfig5_1%3a5.10.1+dfsg-4build1_amd64.deb ...\n",
            "Unpacking libsuitesparseconfig5:amd64 (1:5.10.1+dfsg-4build1) ...\n",
            "Selecting previously unselected package libamd2:amd64.\n",
            "Preparing to unpack .../libamd2_1%3a5.10.1+dfsg-4build1_amd64.deb ...\n",
            "Unpacking libamd2:amd64 (1:5.10.1+dfsg-4build1) ...\n",
            "Selecting previously unselected package libcolamd2:amd64.\n",
            "Preparing to unpack .../libcolamd2_1%3a5.10.1+dfsg-4build1_amd64.deb ...\n",
            "Unpacking libcolamd2:amd64 (1:5.10.1+dfsg-4build1) ...\n",
            "Selecting previously unselected package libglpk40:amd64.\n",
            "Preparing to unpack .../libglpk40_5.0-1_amd64.deb ...\n",
            "Unpacking libglpk40:amd64 (5.0-1) ...\n",
            "Selecting previously unselected package glpk-utils.\n",
            "Preparing to unpack .../glpk-utils_5.0-1_amd64.deb ...\n",
            "Unpacking glpk-utils (5.0-1) ...\n",
            "Setting up libsuitesparseconfig5:amd64 (1:5.10.1+dfsg-4build1) ...\n",
            "Setting up libamd2:amd64 (1:5.10.1+dfsg-4build1) ...\n",
            "Setting up libcolamd2:amd64 (1:5.10.1+dfsg-4build1) ...\n",
            "Setting up libglpk40:amd64 (5.0-1) ...\n",
            "Setting up glpk-utils (5.0-1) ...\n",
            "Processing triggers for man-db (2.10.2-1) ...\n",
            "Processing triggers for libc-bin (2.35-0ubuntu3.4) ...\n",
            "/sbin/ldconfig.real: /usr/local/lib/libtbbbind_2_0.so.3 is not a symbolic link\n",
            "\n",
            "/sbin/ldconfig.real: /usr/local/lib/libtbbmalloc.so.2 is not a symbolic link\n",
            "\n",
            "/sbin/ldconfig.real: /usr/local/lib/libtbbbind.so.3 is not a symbolic link\n",
            "\n",
            "/sbin/ldconfig.real: /usr/local/lib/libtbbmalloc_proxy.so.2 is not a symbolic link\n",
            "\n",
            "/sbin/ldconfig.real: /usr/local/lib/libtbbbind_2_5.so.3 is not a symbolic link\n",
            "\n",
            "/sbin/ldconfig.real: /usr/local/lib/libtbb.so.12 is not a symbolic link\n",
            "\n"
          ]
        }
      ],
      "source": [
        "!pip install pyomo\n",
        "!apt-get install -y -qq glpk-utils\n",
        "\n",
        "import pyomo.environ as pyo\n",
        "from pyomo.opt import SolverFactory\n"
      ]
    },
    {
      "cell_type": "code",
      "source": [
        "model = pyo.ConcreteModel()\n",
        "\n",
        "#sets\n",
        "model.i = pyo.RangeSet(1,4)  #cities\n",
        "model.j = pyo.RangeSet(1,3)   #plants\n",
        "\n",
        "Price_data = { (1,1) : 8, (1,2) : 9 , (1,3) : 14,\n",
        "         (2,1) : 6 , (2,2) : 12 , (2,3): 9,\n",
        "         (3,1) : 10, (3,2) : 13, (3,3) : 16,\n",
        "         (4,1) : 9, (4,2) : 7, (4,3): 5}\n",
        "\n",
        "dmd_data = {1: 45,2 : 20, 3 :30 , 4 :30}\n",
        "Capa_data = {1 :35, 2 :50, 3 :40}\n",
        "\n",
        "#parameters\n",
        "#Pi are ith power plants\n",
        "model.P = pyo.Param(model.i, model.j,  initialize = Price_data)\n",
        "P = model.P\n",
        "\n",
        "model.dmd = pyo.Param(model.i, initialize = dmd_data)\n",
        "dmd = model.dmd\n",
        "\n",
        "model.Capa = pyo.Param(model.j, initialize = Capa_data)\n",
        "Capa = model.Capa\n"
      ],
      "metadata": {
        "id": "SlGmdDdgrtmV"
      },
      "execution_count": null,
      "outputs": []
    },
    {
      "cell_type": "code",
      "source": [
        "model.x = pyo.Var(model.i, model.j, within = pyo.NonNegativeReals)\n",
        "x = model.x\n",
        "\n",
        "#obj function\n",
        "def obj_rule(model):\n",
        "  return sum(sum(P[i,j]*x[i,j] for j in model.j) for i in model.i)\n",
        "\n",
        "model.Obj = pyo.Objective(rule = obj_rule, sense = pyo.minimize)"
      ],
      "metadata": {
        "colab": {
          "base_uri": "https://localhost:8080/"
        },
        "id": "-wTHZ-09s0wN",
        "outputId": "e15f716a-5aa6-4780-ad89-d2ed48577fba"
      },
      "execution_count": null,
      "outputs": [
        {
          "output_type": "stream",
          "name": "stderr",
          "text": [
            "WARNING:pyomo.core:Implicitly replacing the Component attribute x (type=<class 'pyomo.core.base.var.IndexedVar'>) on block unknown with a new Component (type=<class 'pyomo.core.base.var.IndexedVar'>).\n",
            "This is usually indicative of a modelling error.\n",
            "To avoid this warning, use block.del_component() and block.add_component().\n",
            "WARNING:pyomo.core:Implicitly replacing the Component attribute Obj (type=<class 'pyomo.core.base.objective.ScalarObjective'>) on block unknown with a new Component (type=<class 'pyomo.core.base.objective.ScalarObjective'>).\n",
            "This is usually indicative of a modelling error.\n",
            "To avoid this warning, use block.del_component() and block.add_component().\n"
          ]
        }
      ]
    },
    {
      "cell_type": "code",
      "source": [
        "#constraint\n",
        "\n",
        "def cond1(model,i):\n",
        "  return sum(x[1,j] for j in model.j) >= dmd[1]\n",
        "\n",
        "def cond2(model,i):\n",
        "  return sum(x[2,j] for j in model.j) >= dmd[2]\n",
        "\n",
        "def cond3(model,i):\n",
        "  return sum(x[3,j] for j in model.j) >= dmd[3]\n",
        "\n",
        "def cond4(model,i):\n",
        "  return sum(x[4,j] for j in model.j) >= dmd[4]\n",
        "\n",
        "def conc1(model,j):\n",
        "  return sum(x[i,1] for i in model.i) <= Capa[1]\n",
        "\n",
        "def conc2(model,j):\n",
        "  return sum(x[i,2] for i in model.i) <= Capa[2]\n",
        "\n",
        "def conc3(model,j):\n",
        "  return sum(x[i,3] for i in model.i) <= Capa[3]\n",
        "\n",
        "model.d1 = pyo.Constraint(model.i, rule = cond1)\n",
        "model.d2 = pyo.Constraint(model.i, rule = cond2)\n",
        "model.d3 = pyo.Constraint(model.i, rule = cond3)\n",
        "model.d4 = pyo.Constraint(model.i, rule = cond4)\n",
        "model.c1 = pyo.Constraint(model.j, rule = conc1)\n",
        "model.c2 = pyo.Constraint(model.j, rule = conc2)\n",
        "model.c3 = pyo.Constraint(model.j, rule = conc3)"
      ],
      "metadata": {
        "id": "-scD9dBvvYT2"
      },
      "execution_count": null,
      "outputs": []
    },
    {
      "cell_type": "code",
      "source": [
        "z = SolverFactory('glpk')\n",
        "results = z.solve(model)\n",
        "\n",
        "print(results)\n",
        "print(model.Obj())\n",
        "\n",
        "for j in model.j:\n",
        "  for i in model.i:\n",
        "    print(\"Q\",j,i,\"=\", x[i,j]())\n",
        "\n"
      ],
      "metadata": {
        "colab": {
          "base_uri": "https://localhost:8080/"
        },
        "id": "g-jhIvIY5W87",
        "outputId": "e6283fa8-ffe1-4a63-82ce-ac4c4a44fd66"
      },
      "execution_count": null,
      "outputs": [
        {
          "output_type": "stream",
          "name": "stdout",
          "text": [
            "\n",
            "Problem: \n",
            "- Name: unknown\n",
            "  Lower bound: 1020.0\n",
            "  Upper bound: 1020.0\n",
            "  Number of objectives: 1\n",
            "  Number of constraints: 25\n",
            "  Number of variables: 12\n",
            "  Number of nonzeros: 84\n",
            "  Sense: minimize\n",
            "Solver: \n",
            "- Status: ok\n",
            "  Termination condition: optimal\n",
            "  Statistics: \n",
            "    Branch and bound: \n",
            "      Number of bounded subproblems: 0\n",
            "      Number of created subproblems: 0\n",
            "  Error rc: 0\n",
            "  Time: 0.0040607452392578125\n",
            "Solution: \n",
            "- number of solutions: 0\n",
            "  number of solutions displayed: 0\n",
            "\n",
            "1020.0\n",
            "Q 1 1 = 0.0\n",
            "Q 1 2 = 10.0\n",
            "Q 1 3 = 25.0\n",
            "Q 1 4 = 0.0\n",
            "Q 2 1 = 45.0\n",
            "Q 2 2 = 0.0\n",
            "Q 2 3 = 5.0\n",
            "Q 2 4 = 0.0\n",
            "Q 3 1 = 0.0\n",
            "Q 3 2 = 10.0\n",
            "Q 3 3 = 0.0\n",
            "Q 3 4 = 30.0\n"
          ]
        }
      ]
    },
    {
      "cell_type": "code",
      "source": [],
      "metadata": {
        "id": "RYCP8PQcCP-b"
      },
      "execution_count": null,
      "outputs": []
    }
  ]
}