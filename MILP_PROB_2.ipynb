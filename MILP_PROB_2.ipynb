{
  "nbformat": 4,
  "nbformat_minor": 0,
  "metadata": {
    "colab": {
      "provenance": [],
      "authorship_tag": "ABX9TyMG9rAc1zYAIoZZSuEVU3HK",
      "include_colab_link": true
    },
    "kernelspec": {
      "name": "python3",
      "display_name": "Python 3"
    },
    "language_info": {
      "name": "python"
    }
  },
  "cells": [
    {
      "cell_type": "markdown",
      "metadata": {
        "id": "view-in-github",
        "colab_type": "text"
      },
      "source": [
        "<a href=\"https://colab.research.google.com/github/Tanmaey45/Pyomo-codes/blob/main/MILP_PROB_2.ipynb\" target=\"_parent\"><img src=\"https://colab.research.google.com/assets/colab-badge.svg\" alt=\"Open In Colab\"/></a>"
      ]
    },
    {
      "cell_type": "code",
      "execution_count": null,
      "metadata": {
        "colab": {
          "base_uri": "https://localhost:8080/"
        },
        "id": "fWg-izTCvPlR",
        "outputId": "35b77994-314f-4dea-80e2-e923032bf4aa"
      },
      "outputs": [
        {
          "output_type": "stream",
          "name": "stdout",
          "text": [
            "Collecting pyomo\n",
            "  Downloading Pyomo-6.7.1-cp310-cp310-manylinux_2_17_x86_64.manylinux2014_x86_64.whl (12.7 MB)\n",
            "\u001b[2K     \u001b[90m━━━━━━━━━━━━━━━━━━━━━━━━━━━━━━━━━━━━━━━━\u001b[0m \u001b[32m12.7/12.7 MB\u001b[0m \u001b[31m22.5 MB/s\u001b[0m eta \u001b[36m0:00:00\u001b[0m\n",
            "\u001b[?25hCollecting ply (from pyomo)\n",
            "  Downloading ply-3.11-py2.py3-none-any.whl (49 kB)\n",
            "\u001b[2K     \u001b[90m━━━━━━━━━━━━━━━━━━━━━━━━━━━━━━━━━━━━━━━━\u001b[0m \u001b[32m49.6/49.6 kB\u001b[0m \u001b[31m4.0 MB/s\u001b[0m eta \u001b[36m0:00:00\u001b[0m\n",
            "\u001b[?25hInstalling collected packages: ply, pyomo\n",
            "Successfully installed ply-3.11 pyomo-6.7.1\n",
            "\u001b[2K     \u001b[90m━━━━━━━━━━━━━━━━━━━━━━━━━━━━━━━━━━━━━━━━\u001b[0m \u001b[32m44.2/44.2 MB\u001b[0m \u001b[31m9.9 MB/s\u001b[0m eta \u001b[36m0:00:00\u001b[0m\n",
            "\u001b[?25h"
          ]
        }
      ],
      "source": [
        "!pip install pyomo\n",
        "!pip install cplex -q"
      ]
    },
    {
      "cell_type": "code",
      "source": [
        "import pyomo.environ as pyo\n",
        "from pyomo.opt import SolverFactory"
      ],
      "metadata": {
        "id": "0ni9UymZvZkm"
      },
      "execution_count": null,
      "outputs": []
    },
    {
      "cell_type": "code",
      "source": [
        "model = pyo.ConcreteModel()\n",
        "\n",
        "#sets\n",
        "model.i = pyo.RangeSet(1,2) #produc lines\n",
        "model.j = pyo.RangeSet(1,3) #type of seat\n",
        "\n",
        "#data\n",
        "Fixed_cost = {1 : 1000, 2 : 2000}\n",
        "Salary_data = { 1 : 400 , 2 : 600}\n",
        "Capa_worker = { (1,1) : 20, (1,2) : 30, (1,3) : 40,\n",
        "                 (2,1) : 50 , (2,2) : 35, (2,3) : 45}\n",
        "dmd_data = {1: 120, 2: 150, 3 : 200}\n",
        "\n",
        "#parameters\n",
        "model.S = pyo.Param(model.i, model.j, initialize = Capa_worker)\n",
        "S = model.S\n",
        "model.Slr = pyo.Param(model.i, initialize = Salary_data)\n",
        "Slr = model.Slr\n",
        "model.F = pyo.Param(model.i, initialize = Fixed_cost)\n",
        "F = model.F\n",
        "model.D = pyo.Param(model.j, initialize = dmd_data)\n",
        "D = model.D\n"
      ],
      "metadata": {
        "id": "ZBur9XX-vnRH"
      },
      "execution_count": null,
      "outputs": []
    },
    {
      "cell_type": "code",
      "source": [
        "#variables\n",
        "model.x = pyo.Var( model.i, domain = pyo.NonNegativeIntegers)\n",
        "x = model.x\n",
        "model.y = pyo.Var( model.i , domain = pyo.Binary)\n",
        "y = model.y\n",
        "\n",
        "def obj_rule(model):\n",
        "  return sum(Slr[i]*x[i] for i in model.i) + sum(F[i]*y[i] for i in model.i)\n",
        "\n",
        "model.obj = pyo.Objective( rule = obj_rule, sense = pyo.minimize)"
      ],
      "metadata": {
        "colab": {
          "base_uri": "https://localhost:8080/"
        },
        "id": "uiKEhDn4yYCR",
        "outputId": "df942301-1677-41c7-c58c-58e211b8214b"
      },
      "execution_count": null,
      "outputs": [
        {
          "output_type": "stream",
          "name": "stderr",
          "text": [
            "WARNING:pyomo.core:Implicitly replacing the Component attribute x (type=<class 'pyomo.core.base.var.IndexedVar'>) on block unknown with a new Component (type=<class 'pyomo.core.base.var.IndexedVar'>).\n",
            "This is usually indicative of a modelling error.\n",
            "To avoid this warning, use block.del_component() and block.add_component().\n",
            "WARNING:pyomo.core:Implicitly replacing the Component attribute y (type=<class 'pyomo.core.base.var.IndexedVar'>) on block unknown with a new Component (type=<class 'pyomo.core.base.var.IndexedVar'>).\n",
            "This is usually indicative of a modelling error.\n",
            "To avoid this warning, use block.del_component() and block.add_component().\n",
            "WARNING:pyomo.core:Implicitly replacing the Component attribute obj (type=<class 'pyomo.core.base.objective.ScalarObjective'>) on block unknown with a new Component (type=<class 'pyomo.core.base.objective.ScalarObjective'>).\n",
            "This is usually indicative of a modelling error.\n",
            "To avoid this warning, use block.del_component() and block.add_component().\n"
          ]
        }
      ]
    },
    {
      "cell_type": "code",
      "source": [
        "#constraints\n",
        "def con1(model,i):\n",
        "  return sum(S[i,1]*x[i] for i in model.i) >= 120\n",
        "\n",
        "def con2(model,i):\n",
        "  return sum(S[i,2]*x[i] for i in model.i) >= 150\n",
        "\n",
        "def con3(model,i):\n",
        "  return sum(S[i,3]*x[i] for i in model.i) >= 200\n",
        "\n",
        "def con4(model,i):\n",
        "  return x[i] <= 30*y[i]\n",
        "\n",
        "\n",
        "model.c1 = pyo.Constraint( model.i, rule = con1)\n",
        "model.c2 = pyo.Constraint( model.i, rule = con2)\n",
        "model.c3 = pyo.Constraint( model.i, rule = con3)\n",
        "model.c4 = pyo.Constraint( model.i, rule = con4)\n"
      ],
      "metadata": {
        "colab": {
          "base_uri": "https://localhost:8080/"
        },
        "id": "ysSoOXVf3UGF",
        "outputId": "3e8da1e0-50b0-4aae-ec76-6116afa43a20"
      },
      "execution_count": null,
      "outputs": [
        {
          "output_type": "stream",
          "name": "stderr",
          "text": [
            "WARNING:pyomo.core:Implicitly replacing the Component attribute c1 (type=<class 'pyomo.core.base.constraint.IndexedConstraint'>) on block unknown with a new Component (type=<class 'pyomo.core.base.constraint.IndexedConstraint'>).\n",
            "This is usually indicative of a modelling error.\n",
            "To avoid this warning, use block.del_component() and block.add_component().\n",
            "WARNING:pyomo.core:Implicitly replacing the Component attribute c2 (type=<class 'pyomo.core.base.constraint.IndexedConstraint'>) on block unknown with a new Component (type=<class 'pyomo.core.base.constraint.IndexedConstraint'>).\n",
            "This is usually indicative of a modelling error.\n",
            "To avoid this warning, use block.del_component() and block.add_component().\n",
            "WARNING:pyomo.core:Implicitly replacing the Component attribute c3 (type=<class 'pyomo.core.base.constraint.IndexedConstraint'>) on block unknown with a new Component (type=<class 'pyomo.core.base.constraint.IndexedConstraint'>).\n",
            "This is usually indicative of a modelling error.\n",
            "To avoid this warning, use block.del_component() and block.add_component().\n",
            "WARNING:pyomo.core:Implicitly replacing the Component attribute c4 (type=<class 'pyomo.core.base.constraint.IndexedConstraint'>) on block unknown with a new Component (type=<class 'pyomo.core.base.constraint.IndexedConstraint'>).\n",
            "This is usually indicative of a modelling error.\n",
            "To avoid this warning, use block.del_component() and block.add_component().\n"
          ]
        }
      ]
    },
    {
      "cell_type": "code",
      "source": [
        "z = SolverFactory('cplex_direct')\n",
        "results = z.solve(model)\n",
        "\n",
        "print(results)\n",
        "print(model.obj())\n",
        "for i in model.i:\n",
        "  print(x[i](), \" \", y[i]())"
      ],
      "metadata": {
        "colab": {
          "base_uri": "https://localhost:8080/"
        },
        "id": "QvKXNsAk5QwO",
        "outputId": "8ec38b1a-43d1-401c-80e3-84e320e9abfd"
      },
      "execution_count": null,
      "outputs": [
        {
          "output_type": "stream",
          "name": "stdout",
          "text": [
            "\n",
            "Problem: \n",
            "- Name: \n",
            "  Lower bound: 3400.0\n",
            "  Upper bound: 3400.0\n",
            "  Number of objectives: 1\n",
            "  Number of constraints: 8\n",
            "  Number of variables: 4\n",
            "  Number of binary variables: 2\n",
            "  Number of integer variables: 2\n",
            "  Number of continuous variables: 0\n",
            "  Number of nonzeros: None\n",
            "  Sense: 1\n",
            "Solver: \n",
            "- Name: CPLEX 22.1.1.0\n",
            "  Status: ok\n",
            "  Wallclock time: 0.0070781707763671875\n",
            "  Termination condition: optimal\n",
            "Solution: \n",
            "- number of solutions: 0\n",
            "  number of solutions displayed: 0\n",
            "\n",
            "3400.0\n",
            "6.0   1.0\n",
            "0.0   0.0\n"
          ]
        }
      ]
    },
    {
      "cell_type": "code",
      "source": [],
      "metadata": {
        "id": "BOJQuiuO5imP"
      },
      "execution_count": null,
      "outputs": []
    }
  ]
}