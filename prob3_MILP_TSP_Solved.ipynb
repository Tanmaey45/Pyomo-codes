{
  "nbformat": 4,
  "nbformat_minor": 0,
  "metadata": {
    "colab": {
      "provenance": [],
      "authorship_tag": "ABX9TyPmHYOCwWujJ7kpS0Pstca8",
      "include_colab_link": true
    },
    "kernelspec": {
      "name": "python3",
      "display_name": "Python 3"
    },
    "language_info": {
      "name": "python"
    }
  },
  "cells": [
    {
      "cell_type": "markdown",
      "metadata": {
        "id": "view-in-github",
        "colab_type": "text"
      },
      "source": [
        "<a href=\"https://colab.research.google.com/github/Tanmaey45/Pyomo-codes/blob/main/prob3_MILP_TSP_Solved.ipynb\" target=\"_parent\"><img src=\"https://colab.research.google.com/assets/colab-badge.svg\" alt=\"Open In Colab\"/></a>"
      ]
    },
    {
      "cell_type": "code",
      "execution_count": null,
      "metadata": {
        "colab": {
          "base_uri": "https://localhost:8080/"
        },
        "id": "ov9BPcrBYbdm",
        "outputId": "0e566971-0650-4513-aaae-55bc93385d27"
      },
      "outputs": [
        {
          "output_type": "stream",
          "name": "stdout",
          "text": [
            "Collecting pyomo\n",
            "  Downloading Pyomo-6.7.1-cp310-cp310-manylinux_2_17_x86_64.manylinux2014_x86_64.whl (12.7 MB)\n",
            "\u001b[2K     \u001b[90m━━━━━━━━━━━━━━━━━━━━━━━━━━━━━━━━━━━━━━━━\u001b[0m \u001b[32m12.7/12.7 MB\u001b[0m \u001b[31m30.7 MB/s\u001b[0m eta \u001b[36m0:00:00\u001b[0m\n",
            "\u001b[?25hCollecting ply (from pyomo)\n",
            "  Downloading ply-3.11-py2.py3-none-any.whl (49 kB)\n",
            "\u001b[2K     \u001b[90m━━━━━━━━━━━━━━━━━━━━━━━━━━━━━━━━━━━━━━━━\u001b[0m \u001b[32m49.6/49.6 kB\u001b[0m \u001b[31m2.3 MB/s\u001b[0m eta \u001b[36m0:00:00\u001b[0m\n",
            "\u001b[?25hInstalling collected packages: ply, pyomo\n",
            "Successfully installed ply-3.11 pyomo-6.7.1\n",
            "\u001b[2K     \u001b[90m━━━━━━━━━━━━━━━━━━━━━━━━━━━━━━━━━━━━━━━━\u001b[0m \u001b[32m44.2/44.2 MB\u001b[0m \u001b[31m14.1 MB/s\u001b[0m eta \u001b[36m0:00:00\u001b[0m\n",
            "\u001b[?25h"
          ]
        }
      ],
      "source": [
        "!pip install pyomo\n",
        "!pip install cplex -q\n",
        "import pyomo.environ as pyo\n",
        "from pyomo.opt import *\n",
        "import pandas as pd"
      ]
    },
    {
      "cell_type": "code",
      "source": [
        "model = pyo.ConcreteModel()\n",
        "\n",
        "C = pd.read_excel('S5P3_Data (1).xlsx', sheet_name= 'TSP',header = 0 , index_col = 0, usecols = 'A:F',nrows = 5 )\n",
        "\n",
        "#no need to define para now\n",
        "\n",
        "#sets\n",
        "model.i = pyo.Set(initialize = ['City1','City2','City3','City4','City5'])\n",
        "model.j = pyo.Set(initialize = ['City1','City2','City3','City4','City5'])\n",
        "model.ii = pyo.Set(initialize = ['City2','City3','City4','City5'])\n",
        "\n",
        "#variables\n",
        "model.x = pyo.Var(model.i, model.j, within = pyo.Binary)\n",
        "x = model.x\n",
        "model.u = pyo.Var(model.i, within = pyo.NonNegativeReals)\n",
        "u = model.u\n"
      ],
      "metadata": {
        "id": "99K-dMjRZIqX"
      },
      "execution_count": null,
      "outputs": []
    },
    {
      "cell_type": "code",
      "source": [
        "def obj_rule(model):\n",
        "  return sum(sum(C[i][j]*x[i,j] for i in model.i) for j in model.j)\n",
        "\n",
        "model.obj = pyo.Objective( rule = obj_rule, sense = pyo.minimize)\n",
        "\n",
        "#constraints\n",
        "def Con1(model,j):\n",
        "  return sum(x[i,j] for i in model.i) == 1\n",
        "\n",
        "def Con2(model,i):\n",
        "  return sum(x[i,j] for j in model.j) == 1\n",
        "\n",
        "def Con3(model,i,j):\n",
        "  if i != j:\n",
        "    return u[i] - u[j] +5*x[i,j] <= 4\n",
        "  else:\n",
        "    return u[i] - u[i] == 0\n",
        "\n",
        "model.c1 = pyo.Constraint(model.i, rule = Con1)\n",
        "model.c2 = pyo.Constraint(model.j, rule = Con2)\n",
        "model.c3 = pyo.Constraint(model.ii, model.j, rule = Con3)\n"
      ],
      "metadata": {
        "id": "FdPyoaWQcCzP"
      },
      "execution_count": null,
      "outputs": []
    },
    {
      "cell_type": "code",
      "source": [
        "z = SolverFactory('cplex_direct')\n",
        "results = z.solve(model)\n",
        "\n",
        "print(results)\n",
        "print(model.obj())\n",
        "for i in model.i:\n",
        "  for j in model.j:\n",
        "    print(\"Man travels from\", i ,\"to\", j, x[i,j]())"
      ],
      "metadata": {
        "colab": {
          "base_uri": "https://localhost:8080/"
        },
        "id": "J8KeT8vHhDkf",
        "outputId": "5f52cc1b-48a5-4c34-f715-2d02be18e410"
      },
      "execution_count": null,
      "outputs": [
        {
          "output_type": "stream",
          "name": "stdout",
          "text": [
            "\n",
            "Problem: \n",
            "- Name: \n",
            "  Lower bound: 668.0\n",
            "  Upper bound: 668.0\n",
            "  Number of objectives: 1\n",
            "  Number of constraints: 30\n",
            "  Number of variables: 30\n",
            "  Number of binary variables: 25\n",
            "  Number of integer variables: 0\n",
            "  Number of continuous variables: 5\n",
            "  Number of nonzeros: None\n",
            "  Sense: 1\n",
            "Solver: \n",
            "- Name: CPLEX 22.1.1.0\n",
            "  Status: ok\n",
            "  Wallclock time: 0.010435104370117188\n",
            "  Termination condition: optimal\n",
            "Solution: \n",
            "- number of solutions: 0\n",
            "  number of solutions displayed: 0\n",
            "\n",
            "668.0\n",
            "Man travels from City1 to City1 -0.0\n",
            "Man travels from City1 to City2 0.0\n",
            "Man travels from City1 to City3 1.0\n",
            "Man travels from City1 to City4 -0.0\n",
            "Man travels from City1 to City5 0.0\n",
            "Man travels from City2 to City1 -0.0\n",
            "Man travels from City2 to City2 -0.0\n",
            "Man travels from City2 to City3 -0.0\n",
            "Man travels from City2 to City4 0.0\n",
            "Man travels from City2 to City5 1.0\n",
            "Man travels from City3 to City1 0.0\n",
            "Man travels from City3 to City2 -0.0\n",
            "Man travels from City3 to City3 -0.0\n",
            "Man travels from City3 to City4 1.0\n",
            "Man travels from City3 to City5 -0.0\n",
            "Man travels from City4 to City1 0.0\n",
            "Man travels from City4 to City2 1.0\n",
            "Man travels from City4 to City3 0.0\n",
            "Man travels from City4 to City4 -0.0\n",
            "Man travels from City4 to City5 -0.0\n",
            "Man travels from City5 to City1 1.0\n",
            "Man travels from City5 to City2 0.0\n",
            "Man travels from City5 to City3 -0.0\n",
            "Man travels from City5 to City4 -0.0\n",
            "Man travels from City5 to City5 -0.0\n"
          ]
        }
      ]
    },
    {
      "cell_type": "code",
      "source": [],
      "metadata": {
        "id": "KAdFKzajmU2M"
      },
      "execution_count": null,
      "outputs": []
    }
  ]
}